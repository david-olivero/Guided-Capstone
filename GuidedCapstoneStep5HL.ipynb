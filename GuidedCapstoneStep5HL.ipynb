{
 "cells": [
  {
   "cell_type": "markdown",
   "metadata": {
    "colab_type": "text",
    "id": "cf5CmXQCZyF1"
   },
   "source": [
    "# Guided Capstone Step 4. Pre-Processing and Training Data Development"
   ]
  },
  {
   "cell_type": "markdown",
   "metadata": {
    "colab_type": "text",
    "id": "b2jue2jPGJlt"
   },
   "source": [
    "**The Data Science Method**  \n",
    "\n",
    "\n",
    "1.   Problem Identification \n",
    "\n",
    "\n",
    "2.   Data Wrangling \n",
    "  \n",
    " \n",
    "3.   Exploratory Data Analysis   \n",
    "\n",
    "4.   **Pre-processing and Training Data Development**  \n",
    " * Create dummy or indicator features for categorical variables\n",
    "  * Standardize the magnitude of numeric features\n",
    "  * Split into testing and training datasets\n",
    "  * Apply scaler to the testing set\n",
    "5.   Modeling \n",
    "  * Fit Models with Training Data Set\n",
    "  * Review Model Outcomes — Iterate over additional models as needed.\n",
    "  * Identify the Final Model\n",
    "\n",
    "6.   Documentation\n",
    "  * Review the Results\n",
    "  * Present and share your findings - storytelling\n",
    "  * Finalize Code \n",
    "  * Finalize Documentation"
   ]
  },
  {
   "cell_type": "markdown",
   "metadata": {
    "colab_type": "text",
    "id": "K8xfkAqqZyF2"
   },
   "source": [
    "**<font color='teal'> Start by loading the necessary packages as we did in step 3 and printing out our current working directory just to confirm we are in the correct project directory. </font>**"
   ]
  },
  {
   "cell_type": "code",
   "execution_count": 94,
   "metadata": {
    "colab": {},
    "colab_type": "code",
    "id": "ry6WPL5eZyF3"
   },
   "outputs": [
    {
     "data": {
      "text/plain": [
       "'C:\\\\Users\\\\David Olivero\\\\AnacondaProjects\\\\Guided-Capstone'"
      ]
     },
     "execution_count": 94,
     "metadata": {},
     "output_type": "execute_result"
    }
   ],
   "source": [
    "import os\n",
    "import numpy as np\n",
    "import pandas as pd\n",
    "import seaborn as sns\n",
    "import matplotlib.pyplot as plt\n",
    "\n",
    "os.getcwd()"
   ]
  },
  {
   "cell_type": "markdown",
   "metadata": {
    "colab_type": "text",
    "id": "630T-ogRZyF8"
   },
   "source": [
    "**<font color='teal'>  Load the csv file you created in step 3, remember it should be saved inside your data subfolder and print the first five rows.</font>**"
   ]
  },
  {
   "cell_type": "code",
   "execution_count": 117,
   "metadata": {
    "colab": {},
    "colab_type": "code",
    "id": "dMNbk0u3ZyF9"
   },
   "outputs": [
    {
     "data": {
      "text/html": [
       "<div>\n",
       "<style>\n",
       "    .dataframe thead tr:only-child th {\n",
       "        text-align: right;\n",
       "    }\n",
       "\n",
       "    .dataframe thead th {\n",
       "        text-align: left;\n",
       "    }\n",
       "\n",
       "    .dataframe tbody tr th {\n",
       "        vertical-align: top;\n",
       "    }\n",
       "</style>\n",
       "<table border=\"1\" class=\"dataframe\">\n",
       "  <thead>\n",
       "    <tr style=\"text-align: right;\">\n",
       "      <th></th>\n",
       "      <th>count</th>\n",
       "      <th>mean</th>\n",
       "      <th>std</th>\n",
       "      <th>min</th>\n",
       "      <th>25%</th>\n",
       "      <th>50%</th>\n",
       "      <th>75%</th>\n",
       "      <th>max</th>\n",
       "    </tr>\n",
       "  </thead>\n",
       "  <tbody>\n",
       "    <tr>\n",
       "      <th>summit_elev</th>\n",
       "      <td>176.0</td>\n",
       "      <td>3693.267045</td>\n",
       "      <td>3241.417230</td>\n",
       "      <td>315.0</td>\n",
       "      <td>1250.00</td>\n",
       "      <td>2000.0</td>\n",
       "      <td>6562.500000</td>\n",
       "      <td>12075.0</td>\n",
       "    </tr>\n",
       "    <tr>\n",
       "      <th>vertical_drop</th>\n",
       "      <td>176.0</td>\n",
       "      <td>853.176136</td>\n",
       "      <td>592.178340</td>\n",
       "      <td>175.0</td>\n",
       "      <td>391.25</td>\n",
       "      <td>651.0</td>\n",
       "      <td>1153.000000</td>\n",
       "      <td>2610.0</td>\n",
       "    </tr>\n",
       "    <tr>\n",
       "      <th>trams</th>\n",
       "      <td>176.0</td>\n",
       "      <td>0.000000</td>\n",
       "      <td>0.000000</td>\n",
       "      <td>0.0</td>\n",
       "      <td>0.00</td>\n",
       "      <td>0.0</td>\n",
       "      <td>0.000000</td>\n",
       "      <td>0.0</td>\n",
       "    </tr>\n",
       "    <tr>\n",
       "      <th>fastEight</th>\n",
       "      <td>176.0</td>\n",
       "      <td>0.000000</td>\n",
       "      <td>0.000000</td>\n",
       "      <td>0.0</td>\n",
       "      <td>0.00</td>\n",
       "      <td>0.0</td>\n",
       "      <td>0.000000</td>\n",
       "      <td>0.0</td>\n",
       "    </tr>\n",
       "    <tr>\n",
       "      <th>fastSixes</th>\n",
       "      <td>176.0</td>\n",
       "      <td>0.000000</td>\n",
       "      <td>0.000000</td>\n",
       "      <td>0.0</td>\n",
       "      <td>0.00</td>\n",
       "      <td>0.0</td>\n",
       "      <td>0.000000</td>\n",
       "      <td>0.0</td>\n",
       "    </tr>\n",
       "    <tr>\n",
       "      <th>fastQuads</th>\n",
       "      <td>176.0</td>\n",
       "      <td>0.238636</td>\n",
       "      <td>0.585429</td>\n",
       "      <td>0.0</td>\n",
       "      <td>0.00</td>\n",
       "      <td>0.0</td>\n",
       "      <td>0.000000</td>\n",
       "      <td>2.0</td>\n",
       "    </tr>\n",
       "    <tr>\n",
       "      <th>quad</th>\n",
       "      <td>176.0</td>\n",
       "      <td>0.528409</td>\n",
       "      <td>0.700440</td>\n",
       "      <td>0.0</td>\n",
       "      <td>0.00</td>\n",
       "      <td>0.0</td>\n",
       "      <td>1.000000</td>\n",
       "      <td>2.0</td>\n",
       "    </tr>\n",
       "    <tr>\n",
       "      <th>triple</th>\n",
       "      <td>176.0</td>\n",
       "      <td>1.187500</td>\n",
       "      <td>1.230128</td>\n",
       "      <td>0.0</td>\n",
       "      <td>0.00</td>\n",
       "      <td>1.0</td>\n",
       "      <td>2.000000</td>\n",
       "      <td>5.0</td>\n",
       "    </tr>\n",
       "    <tr>\n",
       "      <th>double</th>\n",
       "      <td>176.0</td>\n",
       "      <td>1.772727</td>\n",
       "      <td>1.506005</td>\n",
       "      <td>0.0</td>\n",
       "      <td>1.00</td>\n",
       "      <td>1.0</td>\n",
       "      <td>2.000000</td>\n",
       "      <td>6.0</td>\n",
       "    </tr>\n",
       "    <tr>\n",
       "      <th>surface</th>\n",
       "      <td>176.0</td>\n",
       "      <td>2.255682</td>\n",
       "      <td>1.441218</td>\n",
       "      <td>0.0</td>\n",
       "      <td>1.00</td>\n",
       "      <td>2.0</td>\n",
       "      <td>3.000000</td>\n",
       "      <td>6.0</td>\n",
       "    </tr>\n",
       "    <tr>\n",
       "      <th>total_chairs</th>\n",
       "      <td>176.0</td>\n",
       "      <td>5.982955</td>\n",
       "      <td>2.743250</td>\n",
       "      <td>0.0</td>\n",
       "      <td>4.00</td>\n",
       "      <td>5.5</td>\n",
       "      <td>7.000000</td>\n",
       "      <td>16.0</td>\n",
       "    </tr>\n",
       "    <tr>\n",
       "      <th>Runs</th>\n",
       "      <td>176.0</td>\n",
       "      <td>30.301136</td>\n",
       "      <td>18.392396</td>\n",
       "      <td>7.0</td>\n",
       "      <td>16.00</td>\n",
       "      <td>24.5</td>\n",
       "      <td>42.000000</td>\n",
       "      <td>110.0</td>\n",
       "    </tr>\n",
       "    <tr>\n",
       "      <th>TerrainParks</th>\n",
       "      <td>176.0</td>\n",
       "      <td>1.801136</td>\n",
       "      <td>1.438332</td>\n",
       "      <td>0.0</td>\n",
       "      <td>1.00</td>\n",
       "      <td>2.0</td>\n",
       "      <td>2.000000</td>\n",
       "      <td>6.0</td>\n",
       "    </tr>\n",
       "    <tr>\n",
       "      <th>LongestRun_mi</th>\n",
       "      <td>176.0</td>\n",
       "      <td>1.016855</td>\n",
       "      <td>0.745176</td>\n",
       "      <td>0.0</td>\n",
       "      <td>0.40</td>\n",
       "      <td>1.0</td>\n",
       "      <td>1.500000</td>\n",
       "      <td>4.0</td>\n",
       "    </tr>\n",
       "    <tr>\n",
       "      <th>SkiableTerrain_ac</th>\n",
       "      <td>176.0</td>\n",
       "      <td>257.112507</td>\n",
       "      <td>339.129287</td>\n",
       "      <td>15.0</td>\n",
       "      <td>50.75</td>\n",
       "      <td>124.5</td>\n",
       "      <td>256.250000</td>\n",
       "      <td>1704.0</td>\n",
       "    </tr>\n",
       "    <tr>\n",
       "      <th>Snow Making_ac</th>\n",
       "      <td>176.0</td>\n",
       "      <td>105.363396</td>\n",
       "      <td>69.037060</td>\n",
       "      <td>13.0</td>\n",
       "      <td>45.00</td>\n",
       "      <td>88.0</td>\n",
       "      <td>174.873239</td>\n",
       "      <td>300.0</td>\n",
       "    </tr>\n",
       "    <tr>\n",
       "      <th>daysOpenLastYear</th>\n",
       "      <td>176.0</td>\n",
       "      <td>106.121171</td>\n",
       "      <td>21.811089</td>\n",
       "      <td>56.0</td>\n",
       "      <td>94.75</td>\n",
       "      <td>110.0</td>\n",
       "      <td>115.103943</td>\n",
       "      <td>163.0</td>\n",
       "    </tr>\n",
       "    <tr>\n",
       "      <th>yearsOpen</th>\n",
       "      <td>176.0</td>\n",
       "      <td>59.657139</td>\n",
       "      <td>14.256964</td>\n",
       "      <td>22.0</td>\n",
       "      <td>52.75</td>\n",
       "      <td>58.0</td>\n",
       "      <td>69.000000</td>\n",
       "      <td>95.0</td>\n",
       "    </tr>\n",
       "    <tr>\n",
       "      <th>averageSnowfall</th>\n",
       "      <td>176.0</td>\n",
       "      <td>147.044879</td>\n",
       "      <td>105.942101</td>\n",
       "      <td>18.0</td>\n",
       "      <td>54.25</td>\n",
       "      <td>120.0</td>\n",
       "      <td>210.000000</td>\n",
       "      <td>500.0</td>\n",
       "    </tr>\n",
       "    <tr>\n",
       "      <th>AdultWeekday</th>\n",
       "      <td>176.0</td>\n",
       "      <td>50.088614</td>\n",
       "      <td>16.021731</td>\n",
       "      <td>17.0</td>\n",
       "      <td>39.00</td>\n",
       "      <td>49.0</td>\n",
       "      <td>57.916957</td>\n",
       "      <td>89.0</td>\n",
       "    </tr>\n",
       "    <tr>\n",
       "      <th>AdultWeekend</th>\n",
       "      <td>176.0</td>\n",
       "      <td>56.927324</td>\n",
       "      <td>15.293785</td>\n",
       "      <td>20.0</td>\n",
       "      <td>45.00</td>\n",
       "      <td>55.0</td>\n",
       "      <td>65.500000</td>\n",
       "      <td>93.0</td>\n",
       "    </tr>\n",
       "    <tr>\n",
       "      <th>projectedDaysOpen</th>\n",
       "      <td>176.0</td>\n",
       "      <td>112.189347</td>\n",
       "      <td>20.997546</td>\n",
       "      <td>56.0</td>\n",
       "      <td>100.00</td>\n",
       "      <td>115.0</td>\n",
       "      <td>122.000000</td>\n",
       "      <td>180.0</td>\n",
       "    </tr>\n",
       "    <tr>\n",
       "      <th>NightSkiing_ac</th>\n",
       "      <td>176.0</td>\n",
       "      <td>44.397727</td>\n",
       "      <td>47.206910</td>\n",
       "      <td>0.0</td>\n",
       "      <td>0.00</td>\n",
       "      <td>35.0</td>\n",
       "      <td>70.500000</td>\n",
       "      <td>200.0</td>\n",
       "    </tr>\n",
       "    <tr>\n",
       "      <th>clusters</th>\n",
       "      <td>176.0</td>\n",
       "      <td>1.431818</td>\n",
       "      <td>0.745201</td>\n",
       "      <td>0.0</td>\n",
       "      <td>1.00</td>\n",
       "      <td>2.0</td>\n",
       "      <td>2.000000</td>\n",
       "      <td>2.0</td>\n",
       "    </tr>\n",
       "  </tbody>\n",
       "</table>\n",
       "</div>"
      ],
      "text/plain": [
       "                   count         mean          std    min      25%     50%  \\\n",
       "summit_elev        176.0  3693.267045  3241.417230  315.0  1250.00  2000.0   \n",
       "vertical_drop      176.0   853.176136   592.178340  175.0   391.25   651.0   \n",
       "trams              176.0     0.000000     0.000000    0.0     0.00     0.0   \n",
       "fastEight          176.0     0.000000     0.000000    0.0     0.00     0.0   \n",
       "fastSixes          176.0     0.000000     0.000000    0.0     0.00     0.0   \n",
       "fastQuads          176.0     0.238636     0.585429    0.0     0.00     0.0   \n",
       "quad               176.0     0.528409     0.700440    0.0     0.00     0.0   \n",
       "triple             176.0     1.187500     1.230128    0.0     0.00     1.0   \n",
       "double             176.0     1.772727     1.506005    0.0     1.00     1.0   \n",
       "surface            176.0     2.255682     1.441218    0.0     1.00     2.0   \n",
       "total_chairs       176.0     5.982955     2.743250    0.0     4.00     5.5   \n",
       "Runs               176.0    30.301136    18.392396    7.0    16.00    24.5   \n",
       "TerrainParks       176.0     1.801136     1.438332    0.0     1.00     2.0   \n",
       "LongestRun_mi      176.0     1.016855     0.745176    0.0     0.40     1.0   \n",
       "SkiableTerrain_ac  176.0   257.112507   339.129287   15.0    50.75   124.5   \n",
       "Snow Making_ac     176.0   105.363396    69.037060   13.0    45.00    88.0   \n",
       "daysOpenLastYear   176.0   106.121171    21.811089   56.0    94.75   110.0   \n",
       "yearsOpen          176.0    59.657139    14.256964   22.0    52.75    58.0   \n",
       "averageSnowfall    176.0   147.044879   105.942101   18.0    54.25   120.0   \n",
       "AdultWeekday       176.0    50.088614    16.021731   17.0    39.00    49.0   \n",
       "AdultWeekend       176.0    56.927324    15.293785   20.0    45.00    55.0   \n",
       "projectedDaysOpen  176.0   112.189347    20.997546   56.0   100.00   115.0   \n",
       "NightSkiing_ac     176.0    44.397727    47.206910    0.0     0.00    35.0   \n",
       "clusters           176.0     1.431818     0.745201    0.0     1.00     2.0   \n",
       "\n",
       "                           75%      max  \n",
       "summit_elev        6562.500000  12075.0  \n",
       "vertical_drop      1153.000000   2610.0  \n",
       "trams                 0.000000      0.0  \n",
       "fastEight             0.000000      0.0  \n",
       "fastSixes             0.000000      0.0  \n",
       "fastQuads             0.000000      2.0  \n",
       "quad                  1.000000      2.0  \n",
       "triple                2.000000      5.0  \n",
       "double                2.000000      6.0  \n",
       "surface               3.000000      6.0  \n",
       "total_chairs          7.000000     16.0  \n",
       "Runs                 42.000000    110.0  \n",
       "TerrainParks          2.000000      6.0  \n",
       "LongestRun_mi         1.500000      4.0  \n",
       "SkiableTerrain_ac   256.250000   1704.0  \n",
       "Snow Making_ac      174.873239    300.0  \n",
       "daysOpenLastYear    115.103943    163.0  \n",
       "yearsOpen            69.000000     95.0  \n",
       "averageSnowfall     210.000000    500.0  \n",
       "AdultWeekday         57.916957     89.0  \n",
       "AdultWeekend         65.500000     93.0  \n",
       "projectedDaysOpen   122.000000    180.0  \n",
       "NightSkiing_ac       70.500000    200.0  \n",
       "clusters              2.000000      2.0  "
      ]
     },
     "execution_count": 117,
     "metadata": {},
     "output_type": "execute_result"
    }
   ],
   "source": [
    "file_name = 'step3_output.csv'\n",
    "\n",
    "resorts = pd.read_csv(file_name)\n",
    "#resorts = pd.read_csv(file_name, index_col = 'Name')\n",
    "\n",
    "resorts.drop('Unnamed: 0', axis=1, inplace=True)\n",
    "resorts.drop('Name', axis = 1, inplace=True)\n",
    "\n",
    "resorts.describe().T"
   ]
  },
  {
   "cell_type": "code",
   "execution_count": 118,
   "metadata": {},
   "outputs": [
    {
     "data": {
      "text/plain": [
       "summit_elev            int64\n",
       "vertical_drop          int64\n",
       "trams                  int64\n",
       "fastEight            float64\n",
       "fastSixes              int64\n",
       "fastQuads              int64\n",
       "quad                   int64\n",
       "triple                 int64\n",
       "double                 int64\n",
       "surface                int64\n",
       "total_chairs           int64\n",
       "Runs                 float64\n",
       "TerrainParks         float64\n",
       "LongestRun_mi        float64\n",
       "SkiableTerrain_ac    float64\n",
       "Snow Making_ac       float64\n",
       "daysOpenLastYear     float64\n",
       "yearsOpen            float64\n",
       "averageSnowfall      float64\n",
       "AdultWeekday         float64\n",
       "AdultWeekend         float64\n",
       "projectedDaysOpen    float64\n",
       "NightSkiing_ac       float64\n",
       "clusters               int64\n",
       "state                 object\n",
       "dtype: object"
      ]
     },
     "execution_count": 118,
     "metadata": {},
     "output_type": "execute_result"
    }
   ],
   "source": [
    "resorts.dtypes"
   ]
  },
  {
   "cell_type": "markdown",
   "metadata": {
    "colab_type": "text",
    "id": "zkBHf9smZyGB"
   },
   "source": [
    "## Create dummy features for categorical variables"
   ]
  },
  {
   "cell_type": "markdown",
   "metadata": {
    "colab_type": "text",
    "id": "vWKHm0NhAnrJ"
   },
   "source": [
    "**<font color='teal'> Create dummy variables for `state`. Add the dummies back to the dataframe and remove the original column for `state`. </font>**\n",
    "\n",
    "Hint: you can see an example of how to execute this in Aiden's article on preprocessing [here](https://medium.com/@aiden.dataminer/the-data-science-method-dsm-pre-processing-and-training-data-development-fd2d75182967). "
   ]
  },
  {
   "cell_type": "code",
   "execution_count": 119,
   "metadata": {
    "colab": {},
    "colab_type": "code",
    "id": "lZqWk8ltZyGZ"
   },
   "outputs": [],
   "source": [
    "dfo=resorts.select_dtypes(include=['object']) # select object type columns\n",
    "\n",
    "resorts = pd.concat([resorts.drop(dfo, axis=1), pd.get_dummies(dfo)], axis=1)"
   ]
  },
  {
   "cell_type": "markdown",
   "metadata": {
    "colab_type": "text",
    "id": "HnDVhE1-ZyGF"
   },
   "source": [
    "## Standardize the magnitude of numeric features"
   ]
  },
  {
   "cell_type": "markdown",
   "metadata": {
    "colab": {},
    "colab_type": "code",
    "id": "gW3D-WlDZyGG"
   },
   "source": [
    "**<font color='teal'> Using sklearn preprocessing standardize the scale of the features of the dataframe except the name of the resort which we done't need in the dataframe for modeling, so it can be droppped here as well. Also, we want to hold out our response variable(s) so we can have their true values available for model performance review. Let's set `AdultWeekend` to the y variable as our response for scaling and modeling. Later we will go back and consider the `AdultWeekday`, `dayOpenLastYear`, and `projectedDaysOpen`. For now leave them in the development dataframe. </font>**"
   ]
  },
  {
   "cell_type": "code",
   "execution_count": 172,
   "metadata": {
    "colab": {},
    "colab_type": "code",
    "id": "IZL-q-KtAYI6"
   },
   "outputs": [],
   "source": [
    "# first we import the preprocessing package from the sklearn library\n",
    "from sklearn import preprocessing\n",
    "from sklearn.preprocessing import StandardScaler\n",
    "\n",
    "# Declare an explanatory variable, called X,and assign it the result of dropping 'Name' and 'AdultWeekend' from the df\n",
    "X = resorts.drop(['AdultWeekend'], axis=1)\n",
    "\n",
    "# Declare a response variable, called y, and assign it the AdultWeekend column of the df \n",
    "y = resorts['AdultWeekend'] \n",
    "\n",
    "# Here we use the StandardScaler() method of the preprocessing package, and then call the fit() method with parameter X \n",
    "scaler = StandardScaler().fit(X)\n",
    "\n",
    "# Declare a variable called X_scaled, and assign it the result of calling the transform() method with parameter X \n",
    "X_scaled=scaler.transform(X) "
   ]
  },
  {
   "cell_type": "markdown",
   "metadata": {
    "colab_type": "text",
    "id": "GAT8h4_mZyGK"
   },
   "source": [
    "## Split into training and testing datasets"
   ]
  },
  {
   "cell_type": "markdown",
   "metadata": {
    "colab_type": "text",
    "id": "6rdS8EGeAnrW"
   },
   "source": [
    "**<font color='teal'> Using sklearn model selection import train_test_split, and create a 75/25 split with the y = `AdultWeekend`. We will start by using the adult weekend ticket price as our response variable for modeling.</font>**"
   ]
  },
  {
   "cell_type": "code",
   "execution_count": 161,
   "metadata": {
    "colab": {},
    "colab_type": "code",
    "collapsed": true,
    "id": "BSkPut0gguds"
   },
   "outputs": [],
   "source": [
    "# Import the train_test_split function from the sklearn.model_selection utility.  \n",
    "from sklearn.model_selection import train_test_split\n",
    "\n",
    "# Get the 1-dimensional flattened array of our response variable y by calling the ravel() function on y\n",
    "y = y.ravel()\n",
    "\n",
    "# Call the train_test_split() function with the first two parameters set to X_scaled and y \n",
    "# Declare four variables, X_train, X_test, y_train and y_test separated by commas \n",
    "X_train, X_test, y_train, y_test = train_test_split(X_scaled, y, test_size=0.25, random_state=1)"
   ]
  },
  {
   "cell_type": "markdown",
   "metadata": {
    "colab_type": "text",
    "id": "UayqbwkWAnra"
   },
   "source": [
    "Here we start the actual modeling work. First let's fit a multiple linear regression model to predict the `AdultWeekend` price."
   ]
  },
  {
   "cell_type": "markdown",
   "metadata": {
    "colab_type": "text",
    "id": "83fkLldXFCNd"
   },
   "source": [
    "# Guided Capstone Step 5. Modeling\n"
   ]
  },
  {
   "cell_type": "markdown",
   "metadata": {
    "colab_type": "text",
    "id": "JbZXsVevfr9M"
   },
   "source": [
    "This is the fifth step in the Data Science Method. In the previous steps you cleaned and prepared the datasets. Now it's time to get into the most exciting part: modeling! In this exercise, you'll build three different models and compare each model's performance. In the end, you'll choose the best model for demonstrating insights to Big Mountain management.\n",
    "\n",
    "\n",
    "\n",
    "### **The Data Science Method**  \n",
    "\n",
    "\n",
    "1.   Problem Identification \n",
    "\n",
    "2.   Data Wrangling \n",
    "  \n",
    "3.   Exploratory Data Analysis \n",
    " \n",
    "4.   Pre-processing and Training Data Development\n",
    "\n",
    "5.   **Modeling**\n",
    "  * Fit Models with Training Data Set\n",
    "  * Review Model Outcomes — Iterate over additional models as needed.\n",
    "  * Identify the Final Model\n",
    "\n",
    "6.   Documentation\n",
    "  * Review the Results\n",
    "  * Present and share your findings - storytelling\n",
    "  * Finalize Code \n",
    "  * Finalize Documentation"
   ]
  },
  {
   "cell_type": "markdown",
   "metadata": {
    "colab_type": "text",
    "id": "D_wfsP_-Anra"
   },
   "source": [
    "## Fit Models with a Training Dataset"
   ]
  },
  {
   "cell_type": "markdown",
   "metadata": {
    "colab_type": "text",
    "id": "CoI8S5SwAnrc"
   },
   "source": [
    "**<font color='teal'> Using sklearn, fit the model on your training dataset.</font>**"
   ]
  },
  {
   "cell_type": "markdown",
   "metadata": {
    "colab_type": "text",
    "id": "P_GFr8sRAnrd"
   },
   "source": [
    "#### Model 1"
   ]
  },
  {
   "cell_type": "code",
   "execution_count": 163,
   "metadata": {
    "colab": {},
    "colab_type": "code",
    "collapsed": true,
    "id": "fW6K7uOPAnre"
   },
   "outputs": [],
   "source": [
    "#all first model set\n",
    "from sklearn import linear_model\n",
    "from sklearn.metrics import explained_variance_score,mean_absolute_error\n",
    "lm = linear_model.LinearRegression()\n",
    "model = lm.fit(X_train,y_train)"
   ]
  },
  {
   "cell_type": "markdown",
   "metadata": {
    "colab_type": "text",
    "id": "1fHqz9-WAnrg"
   },
   "source": [
    "**<font color='teal'> Predict on the testing dataset and score the model performance with the y_test set and the y-pred values. The explained variance is a measure of the variation explained by the model. This is also known as the R-squared value. </font>**\n",
    "\n",
    "Hint: you will have to use the `predict()` method here as it's used in this [DSM article](https://medium.com/@aiden.dataminer/the-data-science-method-dsm-modeling-56b4233cad1b) about modeling. "
   ]
  },
  {
   "cell_type": "code",
   "execution_count": 164,
   "metadata": {
    "colab": {},
    "colab_type": "code",
    "collapsed": true,
    "id": "nIo01lFEAnrh"
   },
   "outputs": [],
   "source": [
    "# Make a variable called y_pred and assign it the result of calling predict() on our model variable with parameter X_test\n",
    "y_pred = model.predict(X_test)"
   ]
  },
  {
   "cell_type": "markdown",
   "metadata": {
    "colab_type": "text",
    "id": "N4YS0WE2Anrk"
   },
   "source": [
    "## Review Model Outcomes — Iterate over additional models as needed"
   ]
  },
  {
   "cell_type": "code",
   "execution_count": 165,
   "metadata": {
    "colab": {},
    "colab_type": "code",
    "collapsed": true,
    "id": "HSh9sGIYAnrk"
   },
   "outputs": [],
   "source": [
    "# You might want to use the explained_variance_score() and mean_absolute_error() metrics.\n",
    "# To do so, you will need to import them from sklearn.metrics. \n",
    "# You can plug y_test and y_pred into the functions to evaluate the model"
   ]
  },
  {
   "cell_type": "code",
   "execution_count": 166,
   "metadata": {
    "colab": {},
    "colab_type": "code",
    "id": "ihzeo8tqAnro"
   },
   "outputs": [
    {
     "name": "stdout",
     "output_type": "stream",
     "text": [
      "-2.80547391333e+22\n",
      "348372736122.0\n"
     ]
    }
   ],
   "source": [
    "from sklearn.metrics import explained_variance_score, mean_absolute_error\n",
    "print(explained_variance_score(y_test, y_pred))\n",
    "print(mean_absolute_error(y_test, y_pred))"
   ]
  },
  {
   "cell_type": "markdown",
   "metadata": {
    "colab_type": "text",
    "id": "NWJcOuSdAnrr"
   },
   "source": [
    "**<font color='teal'> Print the intercept value from the linear model. </font>**\n",
    "\n",
    "Hint: our linear regression model `lm` has an attribute `intercept_` for the intercept"
   ]
  },
  {
   "cell_type": "code",
   "execution_count": 168,
   "metadata": {},
   "outputs": [
    {
     "data": {
      "image/png": "[encoded data removed]",
      "text/plain": [
       "<matplotlib.figure.Figure at 0x1e9f96e65c0>"
      ]
     },
     "metadata": {},
     "output_type": "display_data"
    }
   ],
   "source": [
    "plt.scatter(y_test, y_pred)\n",
    "plt.title('Model 1')\n",
    "plt.ylabel('Predicted Price')\n",
    "plt.xlabel('Test Price')\n",
    "plt.show()"
   ]
  },
  {
   "cell_type": "code",
   "execution_count": 170,
   "metadata": {
    "colab": {},
    "colab_type": "code",
    "id": "3WzWejn6Anrt"
   },
   "outputs": [
    {
     "data": {
      "text/plain": [
       "87093184085.283737"
      ]
     },
     "execution_count": 170,
     "metadata": {},
     "output_type": "execute_result"
    }
   ],
   "source": [
    "model.intercept_"
   ]
  },
  {
   "cell_type": "markdown",
   "metadata": {
    "colab_type": "text",
    "id": "edajrenAAnrv"
   },
   "source": [
    "**<font color='teal'> The intercept is the mean `AdultWeekend` price for all the resorts given the other characteristics. The addition or subtraction of each of the coefficient values in the regression are numeric adjustments applied to the intercept to provide a particular observation's value for the resulting `AdultWeekend` value. Also, because we took the time to scale our x values in the training data, we can compare each of the coeeficients for the features to determine the feature importances. Print the coefficient values from the linear model and sort in descending order to identify the top ten most important features.</font>** \n",
    "\n",
    "\n",
    "Hint: make sure to review the absolute value of the coefficients, because the adjustment may be positive or negative, but what we are looking for is the magnitude of impact on our response variable."
   ]
  },
  {
   "cell_type": "code",
   "execution_count": 171,
   "metadata": {
    "colab": {},
    "colab_type": "code",
    "id": "FEKc_lmZAnrw"
   },
   "outputs": [
    {
     "data": {
      "text/html": [
       "<div>\n",
       "<style>\n",
       "    .dataframe thead tr:only-child th {\n",
       "        text-align: right;\n",
       "    }\n",
       "\n",
       "    .dataframe thead th {\n",
       "        text-align: left;\n",
       "    }\n",
       "\n",
       "    .dataframe tbody tr th {\n",
       "        vertical-align: top;\n",
       "    }\n",
       "</style>\n",
       "<table border=\"1\" class=\"dataframe\">\n",
       "  <thead>\n",
       "    <tr style=\"text-align: right;\">\n",
       "      <th></th>\n",
       "      <th>Coefficient</th>\n",
       "    </tr>\n",
       "  </thead>\n",
       "  <tbody>\n",
       "    <tr>\n",
       "      <th>fastEight</th>\n",
       "      <td>3.712578e+13</td>\n",
       "    </tr>\n",
       "    <tr>\n",
       "      <th>trams</th>\n",
       "      <td>2.997952e+13</td>\n",
       "    </tr>\n",
       "    <tr>\n",
       "      <th>total_chairs</th>\n",
       "      <td>1.921161e+13</td>\n",
       "    </tr>\n",
       "    <tr>\n",
       "      <th>double</th>\n",
       "      <td>1.054690e+13</td>\n",
       "    </tr>\n",
       "    <tr>\n",
       "      <th>surface</th>\n",
       "      <td>1.009318e+13</td>\n",
       "    </tr>\n",
       "    <tr>\n",
       "      <th>triple</th>\n",
       "      <td>8.614865e+12</td>\n",
       "    </tr>\n",
       "    <tr>\n",
       "      <th>fastSixes</th>\n",
       "      <td>5.020414e+12</td>\n",
       "    </tr>\n",
       "    <tr>\n",
       "      <th>quad</th>\n",
       "      <td>4.905345e+12</td>\n",
       "    </tr>\n",
       "    <tr>\n",
       "      <th>state_New York</th>\n",
       "      <td>4.864763e+12</td>\n",
       "    </tr>\n",
       "    <tr>\n",
       "      <th>state_Michigan</th>\n",
       "      <td>4.279992e+12</td>\n",
       "    </tr>\n",
       "    <tr>\n",
       "      <th>fastQuads</th>\n",
       "      <td>4.099894e+12</td>\n",
       "    </tr>\n",
       "    <tr>\n",
       "      <th>state_California</th>\n",
       "      <td>3.863643e+12</td>\n",
       "    </tr>\n",
       "    <tr>\n",
       "      <th>state_Wisconsin</th>\n",
       "      <td>3.710417e+12</td>\n",
       "    </tr>\n",
       "    <tr>\n",
       "      <th>state_Pennsylvania</th>\n",
       "      <td>3.710417e+12</td>\n",
       "    </tr>\n",
       "    <tr>\n",
       "      <th>state_New Hampshire</th>\n",
       "      <td>3.710417e+12</td>\n",
       "    </tr>\n",
       "    <tr>\n",
       "      <th>state_Vermont</th>\n",
       "      <td>3.192891e+12</td>\n",
       "    </tr>\n",
       "    <tr>\n",
       "      <th>state_Minnesota</th>\n",
       "      <td>3.192891e+12</td>\n",
       "    </tr>\n",
       "    <tr>\n",
       "      <th>state_Idaho</th>\n",
       "      <td>2.781535e+12</td>\n",
       "    </tr>\n",
       "    <tr>\n",
       "      <th>state_New Mexico</th>\n",
       "      <td>2.781535e+12</td>\n",
       "    </tr>\n",
       "    <tr>\n",
       "      <th>state_Wyoming</th>\n",
       "      <td>2.546639e+12</td>\n",
       "    </tr>\n",
       "    <tr>\n",
       "      <th>state_Maine</th>\n",
       "      <td>2.546639e+12</td>\n",
       "    </tr>\n",
       "    <tr>\n",
       "      <th>state_Colorado</th>\n",
       "      <td>2.546639e+12</td>\n",
       "    </tr>\n",
       "    <tr>\n",
       "      <th>state_Connecticut</th>\n",
       "      <td>2.546639e+12</td>\n",
       "    </tr>\n",
       "    <tr>\n",
       "      <th>state_Montana</th>\n",
       "      <td>2.284434e+12</td>\n",
       "    </tr>\n",
       "    <tr>\n",
       "      <th>state_Washington</th>\n",
       "      <td>2.284434e+12</td>\n",
       "    </tr>\n",
       "    <tr>\n",
       "      <th>state_Ohio</th>\n",
       "      <td>2.284434e+12</td>\n",
       "    </tr>\n",
       "    <tr>\n",
       "      <th>state_Massachusetts</th>\n",
       "      <td>2.284434e+12</td>\n",
       "    </tr>\n",
       "    <tr>\n",
       "      <th>state_Utah</th>\n",
       "      <td>1.984121e+12</td>\n",
       "    </tr>\n",
       "    <tr>\n",
       "      <th>state_Oregon</th>\n",
       "      <td>1.984121e+12</td>\n",
       "    </tr>\n",
       "    <tr>\n",
       "      <th>state_Iowa</th>\n",
       "      <td>1.984121e+12</td>\n",
       "    </tr>\n",
       "    <tr>\n",
       "      <th>state_Illinois</th>\n",
       "      <td>1.984121e+12</td>\n",
       "    </tr>\n",
       "    <tr>\n",
       "      <th>state_West Virginia</th>\n",
       "      <td>1.984121e+12</td>\n",
       "    </tr>\n",
       "    <tr>\n",
       "      <th>state_North Carolina</th>\n",
       "      <td>1.984121e+12</td>\n",
       "    </tr>\n",
       "    <tr>\n",
       "      <th>state_Indiana</th>\n",
       "      <td>1.624703e+12</td>\n",
       "    </tr>\n",
       "    <tr>\n",
       "      <th>state_Missouri</th>\n",
       "      <td>1.624703e+12</td>\n",
       "    </tr>\n",
       "    <tr>\n",
       "      <th>state_Virginia</th>\n",
       "      <td>1.624703e+12</td>\n",
       "    </tr>\n",
       "    <tr>\n",
       "      <th>state_South Dakota</th>\n",
       "      <td>1.152135e+12</td>\n",
       "    </tr>\n",
       "    <tr>\n",
       "      <th>state_Arizona</th>\n",
       "      <td>1.152135e+12</td>\n",
       "    </tr>\n",
       "    <tr>\n",
       "      <th>state_Alaska</th>\n",
       "      <td>1.152135e+12</td>\n",
       "    </tr>\n",
       "    <tr>\n",
       "      <th>state_Nevada</th>\n",
       "      <td>1.152135e+12</td>\n",
       "    </tr>\n",
       "    <tr>\n",
       "      <th>state_Maryland</th>\n",
       "      <td>1.152135e+12</td>\n",
       "    </tr>\n",
       "    <tr>\n",
       "      <th>state_Rhode Island</th>\n",
       "      <td>1.152135e+12</td>\n",
       "    </tr>\n",
       "    <tr>\n",
       "      <th>state_Tennessee</th>\n",
       "      <td>1.152135e+12</td>\n",
       "    </tr>\n",
       "    <tr>\n",
       "      <th>state_New Jersey</th>\n",
       "      <td>6.289862e+05</td>\n",
       "    </tr>\n",
       "    <tr>\n",
       "      <th>AdultWeekday</th>\n",
       "      <td>9.355469e+00</td>\n",
       "    </tr>\n",
       "    <tr>\n",
       "      <th>vertical_drop</th>\n",
       "      <td>3.085115e+00</td>\n",
       "    </tr>\n",
       "    <tr>\n",
       "      <th>projectedDaysOpen</th>\n",
       "      <td>2.106445e+00</td>\n",
       "    </tr>\n",
       "    <tr>\n",
       "      <th>averageSnowfall</th>\n",
       "      <td>1.907227e+00</td>\n",
       "    </tr>\n",
       "    <tr>\n",
       "      <th>TerrainParks</th>\n",
       "      <td>1.793945e+00</td>\n",
       "    </tr>\n",
       "    <tr>\n",
       "      <th>SkiableTerrain_ac</th>\n",
       "      <td>1.680664e+00</td>\n",
       "    </tr>\n",
       "    <tr>\n",
       "      <th>clusters</th>\n",
       "      <td>1.562500e+00</td>\n",
       "    </tr>\n",
       "    <tr>\n",
       "      <th>daysOpenLastYear</th>\n",
       "      <td>1.116821e+00</td>\n",
       "    </tr>\n",
       "    <tr>\n",
       "      <th>LongestRun_mi</th>\n",
       "      <td>1.095703e+00</td>\n",
       "    </tr>\n",
       "    <tr>\n",
       "      <th>NightSkiing_ac</th>\n",
       "      <td>9.296875e-01</td>\n",
       "    </tr>\n",
       "    <tr>\n",
       "      <th>Snow Making_ac</th>\n",
       "      <td>6.698608e-01</td>\n",
       "    </tr>\n",
       "    <tr>\n",
       "      <th>Runs</th>\n",
       "      <td>4.321289e-01</td>\n",
       "    </tr>\n",
       "    <tr>\n",
       "      <th>yearsOpen</th>\n",
       "      <td>3.808594e-01</td>\n",
       "    </tr>\n",
       "    <tr>\n",
       "      <th>summit_elev</th>\n",
       "      <td>3.599079e-01</td>\n",
       "    </tr>\n",
       "  </tbody>\n",
       "</table>\n",
       "</div>"
      ],
      "text/plain": [
       "                       Coefficient\n",
       "fastEight             3.712578e+13\n",
       "trams                 2.997952e+13\n",
       "total_chairs          1.921161e+13\n",
       "double                1.054690e+13\n",
       "surface               1.009318e+13\n",
       "triple                8.614865e+12\n",
       "fastSixes             5.020414e+12\n",
       "quad                  4.905345e+12\n",
       "state_New York        4.864763e+12\n",
       "state_Michigan        4.279992e+12\n",
       "fastQuads             4.099894e+12\n",
       "state_California      3.863643e+12\n",
       "state_Wisconsin       3.710417e+12\n",
       "state_Pennsylvania    3.710417e+12\n",
       "state_New Hampshire   3.710417e+12\n",
       "state_Vermont         3.192891e+12\n",
       "state_Minnesota       3.192891e+12\n",
       "state_Idaho           2.781535e+12\n",
       "state_New Mexico      2.781535e+12\n",
       "state_Wyoming         2.546639e+12\n",
       "state_Maine           2.546639e+12\n",
       "state_Colorado        2.546639e+12\n",
       "state_Connecticut     2.546639e+12\n",
       "state_Montana         2.284434e+12\n",
       "state_Washington      2.284434e+12\n",
       "state_Ohio            2.284434e+12\n",
       "state_Massachusetts   2.284434e+12\n",
       "state_Utah            1.984121e+12\n",
       "state_Oregon          1.984121e+12\n",
       "state_Iowa            1.984121e+12\n",
       "state_Illinois        1.984121e+12\n",
       "state_West Virginia   1.984121e+12\n",
       "state_North Carolina  1.984121e+12\n",
       "state_Indiana         1.624703e+12\n",
       "state_Missouri        1.624703e+12\n",
       "state_Virginia        1.624703e+12\n",
       "state_South Dakota    1.152135e+12\n",
       "state_Arizona         1.152135e+12\n",
       "state_Alaska          1.152135e+12\n",
       "state_Nevada          1.152135e+12\n",
       "state_Maryland        1.152135e+12\n",
       "state_Rhode Island    1.152135e+12\n",
       "state_Tennessee       1.152135e+12\n",
       "state_New Jersey      6.289862e+05\n",
       "AdultWeekday          9.355469e+00\n",
       "vertical_drop         3.085115e+00\n",
       "projectedDaysOpen     2.106445e+00\n",
       "averageSnowfall       1.907227e+00\n",
       "TerrainParks          1.793945e+00\n",
       "SkiableTerrain_ac     1.680664e+00\n",
       "clusters              1.562500e+00\n",
       "daysOpenLastYear      1.116821e+00\n",
       "LongestRun_mi         1.095703e+00\n",
       "NightSkiing_ac        9.296875e-01\n",
       "Snow Making_ac        6.698608e-01\n",
       "Runs                  4.321289e-01\n",
       "yearsOpen             3.808594e-01\n",
       "summit_elev           3.599079e-01"
      ]
     },
     "execution_count": 171,
     "metadata": {},
     "output_type": "execute_result"
    }
   ],
   "source": [
    "# You might want to make a pandas DataFrame displaying the coefficients for each state like so: \n",
    "pd.DataFrame(abs(lm.coef_), X.columns, columns=['Coefficient']).sort_values('Coefficient',ascending=False)\n",
    "\n"
   ]
  },
  {
   "cell_type": "markdown",
   "metadata": {
    "colab_type": "text",
    "id": "BpdALMoAAnry"
   },
   "source": [
    "**<font color='teal'>You should see that the top ten important features are different states. However, the state is not something the managers at the Big Mountain Resort can do anything about. Given that we care more about actionable traits associated with ticket pricing, rebuild the model without the state features and compare the results. </font>**\n",
    "\n",
    "Hint: Try to construct another model using exactly the steps we followed above. "
   ]
  },
  {
   "cell_type": "markdown",
   "metadata": {
    "colab_type": "text",
    "id": "-mHYA1BzAnrz"
   },
   "source": [
    "#### Model 2"
   ]
  },
  {
   "cell_type": "code",
   "execution_count": 173,
   "metadata": {
    "colab": {},
    "colab_type": "code",
    "collapsed": true,
    "id": "Pz1YXAdiAnr0"
   },
   "outputs": [],
   "source": [
    "# Re-load the original file:\n",
    "resorts = pd.read_csv(file_name)\n",
    "\n",
    "# Drop columns with Name and state information:\n",
    "resorts.drop(['Unnamed: 0','Name','state'], axis=1, inplace=True)\n",
    "\n",
    "# Proceed with X and y formulation:\n",
    "X = resorts.drop(['AdultWeekend'], axis=1)\n",
    "\n",
    "# Declare a response variable, called y, and assign it the AdultWeekend column of the df \n",
    "y = resorts['AdultWeekend'] \n",
    "\n",
    "# Here we use the StandardScaler() method of the preprocessing package, and then call the fit() method with parameter X \n",
    "scaler = StandardScaler().fit(X)\n",
    "\n",
    "# Declare a variable called X_scaled, and assign it the result of calling the transform() method with parameter X \n",
    "X_scaled=scaler.transform(X) \n",
    "\n",
    "# Get the 1-dimensional flattened array of our response variable y by calling the ravel() function on y\n",
    "y = y.ravel()\n",
    "\n",
    "# Call the train_test_split() function with the first two parameters set to X_scaled and y \n",
    "# Declare four variables, X_train, X_test, y_train and y_test separated by commas \n",
    "X_train, X_test, y_train, y_test = train_test_split(X_scaled, y, test_size=0.25, random_state=1)"
   ]
  },
  {
   "cell_type": "code",
   "execution_count": 174,
   "metadata": {
    "colab": {},
    "colab_type": "code",
    "id": "nM1EGf16Anr2"
   },
   "outputs": [
    {
     "name": "stdout",
     "output_type": "stream",
     "text": [
      "0.532542653123\n",
      "7.37396972614\n"
     ]
    }
   ],
   "source": [
    "lm = linear_model.LinearRegression()\n",
    "model = lm.fit(X_train,y_train)\n",
    "\n",
    "# Make a variable called y_pred and assign it the result of calling predict() on our model variable with parameter X_test\n",
    "y_pred = model.predict(X_test)\n",
    "\n",
    "print(explained_variance_score(y_test, y_pred))\n",
    "print(mean_absolute_error(y_test, y_pred))"
   ]
  },
  {
   "cell_type": "code",
   "execution_count": 175,
   "metadata": {},
   "outputs": [
    {
     "data": {
      "image/png": "[encoded data removed]",
      "text/plain": [
       "<matplotlib.figure.Figure at 0x1e9f96cd5f8>"
      ]
     },
     "metadata": {},
     "output_type": "display_data"
    }
   ],
   "source": [
    "plt.scatter(y_test, y_pred)\n",
    "plt.title('Model 2')\n",
    "plt.ylabel('Predicted Price')\n",
    "plt.xlabel('Test Price')\n",
    "plt.show()"
   ]
  },
  {
   "cell_type": "code",
   "execution_count": 176,
   "metadata": {},
   "outputs": [
    {
     "data": {
      "text/html": [
       "<div>\n",
       "<style>\n",
       "    .dataframe thead tr:only-child th {\n",
       "        text-align: right;\n",
       "    }\n",
       "\n",
       "    .dataframe thead th {\n",
       "        text-align: left;\n",
       "    }\n",
       "\n",
       "    .dataframe tbody tr th {\n",
       "        vertical-align: top;\n",
       "    }\n",
       "</style>\n",
       "<table border=\"1\" class=\"dataframe\">\n",
       "  <thead>\n",
       "    <tr style=\"text-align: right;\">\n",
       "      <th></th>\n",
       "      <th>Coefficient</th>\n",
       "    </tr>\n",
       "  </thead>\n",
       "  <tbody>\n",
       "    <tr>\n",
       "      <th>AdultWeekday</th>\n",
       "      <td>1.015013e+01</td>\n",
       "    </tr>\n",
       "    <tr>\n",
       "      <th>clusters</th>\n",
       "      <td>3.521296e+00</td>\n",
       "    </tr>\n",
       "    <tr>\n",
       "      <th>summit_elev</th>\n",
       "      <td>2.988854e+00</td>\n",
       "    </tr>\n",
       "    <tr>\n",
       "      <th>vertical_drop</th>\n",
       "      <td>2.687827e+00</td>\n",
       "    </tr>\n",
       "    <tr>\n",
       "      <th>TerrainParks</th>\n",
       "      <td>2.558779e+00</td>\n",
       "    </tr>\n",
       "    <tr>\n",
       "      <th>quad</th>\n",
       "      <td>2.053486e+00</td>\n",
       "    </tr>\n",
       "    <tr>\n",
       "      <th>daysOpenLastYear</th>\n",
       "      <td>1.820064e+00</td>\n",
       "    </tr>\n",
       "    <tr>\n",
       "      <th>projectedDaysOpen</th>\n",
       "      <td>1.692985e+00</td>\n",
       "    </tr>\n",
       "    <tr>\n",
       "      <th>SkiableTerrain_ac</th>\n",
       "      <td>1.519416e+00</td>\n",
       "    </tr>\n",
       "    <tr>\n",
       "      <th>surface</th>\n",
       "      <td>1.312435e+00</td>\n",
       "    </tr>\n",
       "    <tr>\n",
       "      <th>LongestRun_mi</th>\n",
       "      <td>1.272038e+00</td>\n",
       "    </tr>\n",
       "    <tr>\n",
       "      <th>Snow Making_ac</th>\n",
       "      <td>7.612125e-01</td>\n",
       "    </tr>\n",
       "    <tr>\n",
       "      <th>averageSnowfall</th>\n",
       "      <td>7.430559e-01</td>\n",
       "    </tr>\n",
       "    <tr>\n",
       "      <th>fastQuads</th>\n",
       "      <td>6.012949e-01</td>\n",
       "    </tr>\n",
       "    <tr>\n",
       "      <th>double</th>\n",
       "      <td>5.179764e-01</td>\n",
       "    </tr>\n",
       "    <tr>\n",
       "      <th>triple</th>\n",
       "      <td>5.133334e-01</td>\n",
       "    </tr>\n",
       "    <tr>\n",
       "      <th>total_chairs</th>\n",
       "      <td>4.776799e-01</td>\n",
       "    </tr>\n",
       "    <tr>\n",
       "      <th>yearsOpen</th>\n",
       "      <td>3.913569e-01</td>\n",
       "    </tr>\n",
       "    <tr>\n",
       "      <th>NightSkiing_ac</th>\n",
       "      <td>2.114992e-01</td>\n",
       "    </tr>\n",
       "    <tr>\n",
       "      <th>Runs</th>\n",
       "      <td>5.624883e-02</td>\n",
       "    </tr>\n",
       "    <tr>\n",
       "      <th>fastSixes</th>\n",
       "      <td>8.881784e-16</td>\n",
       "    </tr>\n",
       "    <tr>\n",
       "      <th>fastEight</th>\n",
       "      <td>2.220446e-16</td>\n",
       "    </tr>\n",
       "    <tr>\n",
       "      <th>trams</th>\n",
       "      <td>0.000000e+00</td>\n",
       "    </tr>\n",
       "  </tbody>\n",
       "</table>\n",
       "</div>"
      ],
      "text/plain": [
       "                    Coefficient\n",
       "AdultWeekday       1.015013e+01\n",
       "clusters           3.521296e+00\n",
       "summit_elev        2.988854e+00\n",
       "vertical_drop      2.687827e+00\n",
       "TerrainParks       2.558779e+00\n",
       "quad               2.053486e+00\n",
       "daysOpenLastYear   1.820064e+00\n",
       "projectedDaysOpen  1.692985e+00\n",
       "SkiableTerrain_ac  1.519416e+00\n",
       "surface            1.312435e+00\n",
       "LongestRun_mi      1.272038e+00\n",
       "Snow Making_ac     7.612125e-01\n",
       "averageSnowfall    7.430559e-01\n",
       "fastQuads          6.012949e-01\n",
       "double             5.179764e-01\n",
       "triple             5.133334e-01\n",
       "total_chairs       4.776799e-01\n",
       "yearsOpen          3.913569e-01\n",
       "NightSkiing_ac     2.114992e-01\n",
       "Runs               5.624883e-02\n",
       "fastSixes          8.881784e-16\n",
       "fastEight          2.220446e-16\n",
       "trams              0.000000e+00"
      ]
     },
     "execution_count": 176,
     "metadata": {},
     "output_type": "execute_result"
    }
   ],
   "source": [
    "# Make a pandas DataFrame displaying the coefficients:\n",
    "pd.DataFrame(abs(lm.coef_), X.columns, columns=['Coefficient']).sort_values('Coefficient',ascending=False)\n"
   ]
  },
  {
   "cell_type": "markdown",
   "metadata": {
    "colab_type": "text",
    "id": "JWjQLr3LAnr6"
   },
   "source": [
    "**<font color='teal'> When reviewing our new model coefficients, we see `summit_elev` is now in the number two spot. This is also difficult to change from a management prespective and highly correlated with `base_elev` and `vertical_drop`.  This time, rebuild the model without the state features and without the `summit_elev` and without `base_elev`and compare the results. </font>**"
   ]
  },
  {
   "cell_type": "markdown",
   "metadata": {
    "colab_type": "text",
    "id": "RXqvcn93Anr7"
   },
   "source": [
    "#### Model 3"
   ]
  },
  {
   "cell_type": "code",
   "execution_count": 191,
   "metadata": {
    "colab": {},
    "colab_type": "code",
    "collapsed": true,
    "id": "6eugnDNNAnr8"
   },
   "outputs": [],
   "source": [
    "# Re-load the original file:\n",
    "resorts = pd.read_csv(file_name)\n",
    "\n",
    "# Drop columns with Name and state information, as well as summit information:\n",
    "resorts.drop(['Unnamed: 0','Name','state','summit_elev','vertical_drop'], axis=1, inplace=True)\n",
    "\n",
    "# Proceed with X and y formulation:\n",
    "X = resorts.drop(['AdultWeekend'], axis=1)\n",
    "\n",
    "# Declare a response variable, called y, and assign it the AdultWeekend column of the df \n",
    "y = resorts['AdultWeekend'] \n",
    "\n",
    "# Here we use the StandardScaler() method of the preprocessing package, and then call the fit() method with parameter X \n",
    "scaler = StandardScaler().fit(X)\n",
    "\n",
    "# Declare a variable called X_scaled, and assign it the result of calling the transform() method with parameter X \n",
    "X_scaled=scaler.transform(X) \n",
    "\n",
    "# Get the 1-dimensional flattened array of our response variable y by calling the ravel() function on y\n",
    "y = y.ravel()\n",
    "\n",
    "# Call the train_test_split() function with the first two parameters set to X_scaled and y \n",
    "# Declare four variables, X_train, X_test, y_train and y_test separated by commas \n",
    "X_train, X_test, y_train, y_test = train_test_split(X_scaled, y, test_size=0.25, random_state=1)"
   ]
  },
  {
   "cell_type": "code",
   "execution_count": 192,
   "metadata": {
    "colab": {},
    "colab_type": "code",
    "id": "pq0pW7G9Anr_"
   },
   "outputs": [
    {
     "name": "stdout",
     "output_type": "stream",
     "text": [
      "0.545012064688\n",
      "7.21574458157\n"
     ]
    }
   ],
   "source": [
    "lm = linear_model.LinearRegression()\n",
    "model = lm.fit(X_train,y_train)\n",
    "\n",
    "# Make a variable called y_pred and assign it the result of calling predict() on our model variable with parameter X_test\n",
    "y_pred = model.predict(X_test)\n",
    "\n",
    "print(explained_variance_score(y_test, y_pred))\n",
    "print(mean_absolute_error(y_test, y_pred))"
   ]
  },
  {
   "cell_type": "code",
   "execution_count": 193,
   "metadata": {
    "colab": {},
    "colab_type": "code",
    "id": "reXlf0HAAnsG"
   },
   "outputs": [
    {
     "data": {
      "image/png": "[encoded data removed]",
      "text/plain": [
       "<matplotlib.figure.Figure at 0x1e9f993a780>"
      ]
     },
     "metadata": {},
     "output_type": "display_data"
    }
   ],
   "source": [
    "plt.scatter(y_test, y_pred)\n",
    "plt.title('Model 3')\n",
    "plt.ylabel('Predicted Price')\n",
    "plt.xlabel('Test Price')\n",
    "plt.show()"
   ]
  },
  {
   "cell_type": "code",
   "execution_count": 194,
   "metadata": {},
   "outputs": [
    {
     "data": {
      "text/html": [
       "<div>\n",
       "<style>\n",
       "    .dataframe thead tr:only-child th {\n",
       "        text-align: right;\n",
       "    }\n",
       "\n",
       "    .dataframe thead th {\n",
       "        text-align: left;\n",
       "    }\n",
       "\n",
       "    .dataframe tbody tr th {\n",
       "        vertical-align: top;\n",
       "    }\n",
       "</style>\n",
       "<table border=\"1\" class=\"dataframe\">\n",
       "  <thead>\n",
       "    <tr style=\"text-align: right;\">\n",
       "      <th></th>\n",
       "      <th>Coefficient</th>\n",
       "    </tr>\n",
       "  </thead>\n",
       "  <tbody>\n",
       "    <tr>\n",
       "      <th>AdultWeekday</th>\n",
       "      <td>1.043973e+01</td>\n",
       "    </tr>\n",
       "    <tr>\n",
       "      <th>clusters</th>\n",
       "      <td>3.374012e+00</td>\n",
       "    </tr>\n",
       "    <tr>\n",
       "      <th>TerrainParks</th>\n",
       "      <td>2.307258e+00</td>\n",
       "    </tr>\n",
       "    <tr>\n",
       "      <th>SkiableTerrain_ac</th>\n",
       "      <td>1.936370e+00</td>\n",
       "    </tr>\n",
       "    <tr>\n",
       "      <th>quad</th>\n",
       "      <td>1.852815e+00</td>\n",
       "    </tr>\n",
       "    <tr>\n",
       "      <th>LongestRun_mi</th>\n",
       "      <td>1.701942e+00</td>\n",
       "    </tr>\n",
       "    <tr>\n",
       "      <th>daysOpenLastYear</th>\n",
       "      <td>1.542189e+00</td>\n",
       "    </tr>\n",
       "    <tr>\n",
       "      <th>averageSnowfall</th>\n",
       "      <td>1.453862e+00</td>\n",
       "    </tr>\n",
       "    <tr>\n",
       "      <th>projectedDaysOpen</th>\n",
       "      <td>1.405501e+00</td>\n",
       "    </tr>\n",
       "    <tr>\n",
       "      <th>surface</th>\n",
       "      <td>1.256882e+00</td>\n",
       "    </tr>\n",
       "    <tr>\n",
       "      <th>Snow Making_ac</th>\n",
       "      <td>1.112561e+00</td>\n",
       "    </tr>\n",
       "    <tr>\n",
       "      <th>fastQuads</th>\n",
       "      <td>1.009652e+00</td>\n",
       "    </tr>\n",
       "    <tr>\n",
       "      <th>Runs</th>\n",
       "      <td>7.527771e-01</td>\n",
       "    </tr>\n",
       "    <tr>\n",
       "      <th>double</th>\n",
       "      <td>6.477600e-01</td>\n",
       "    </tr>\n",
       "    <tr>\n",
       "      <th>total_chairs</th>\n",
       "      <td>5.676184e-01</td>\n",
       "    </tr>\n",
       "    <tr>\n",
       "      <th>NightSkiing_ac</th>\n",
       "      <td>4.719988e-01</td>\n",
       "    </tr>\n",
       "    <tr>\n",
       "      <th>triple</th>\n",
       "      <td>4.098473e-01</td>\n",
       "    </tr>\n",
       "    <tr>\n",
       "      <th>yearsOpen</th>\n",
       "      <td>2.140417e-01</td>\n",
       "    </tr>\n",
       "    <tr>\n",
       "      <th>fastEight</th>\n",
       "      <td>8.881784e-16</td>\n",
       "    </tr>\n",
       "    <tr>\n",
       "      <th>fastSixes</th>\n",
       "      <td>4.440892e-16</td>\n",
       "    </tr>\n",
       "    <tr>\n",
       "      <th>trams</th>\n",
       "      <td>0.000000e+00</td>\n",
       "    </tr>\n",
       "  </tbody>\n",
       "</table>\n",
       "</div>"
      ],
      "text/plain": [
       "                    Coefficient\n",
       "AdultWeekday       1.043973e+01\n",
       "clusters           3.374012e+00\n",
       "TerrainParks       2.307258e+00\n",
       "SkiableTerrain_ac  1.936370e+00\n",
       "quad               1.852815e+00\n",
       "LongestRun_mi      1.701942e+00\n",
       "daysOpenLastYear   1.542189e+00\n",
       "averageSnowfall    1.453862e+00\n",
       "projectedDaysOpen  1.405501e+00\n",
       "surface            1.256882e+00\n",
       "Snow Making_ac     1.112561e+00\n",
       "fastQuads          1.009652e+00\n",
       "Runs               7.527771e-01\n",
       "double             6.477600e-01\n",
       "total_chairs       5.676184e-01\n",
       "NightSkiing_ac     4.719988e-01\n",
       "triple             4.098473e-01\n",
       "yearsOpen          2.140417e-01\n",
       "fastEight          8.881784e-16\n",
       "fastSixes          4.440892e-16\n",
       "trams              0.000000e+00"
      ]
     },
     "execution_count": 194,
     "metadata": {},
     "output_type": "execute_result"
    }
   ],
   "source": [
    "# You might want to make a pandas DataFrame displaying the coefficients for each state like so: \n",
    "pd.DataFrame(abs(lm.coef_), X.columns, columns=['Coefficient']).sort_values('Coefficient',ascending=False)"
   ]
  },
  {
   "cell_type": "markdown",
   "metadata": {
    "colab_type": "text",
    "id": "MJvQMns6AnsI"
   },
   "source": [
    "## Identify the Final Model"
   ]
  },
  {
   "cell_type": "markdown",
   "metadata": {
    "colab_type": "text",
    "id": "LD7-3iLcAnsK"
   },
   "source": [
    "**<font color='teal'> Review the model performances in the table below and choose the best model for proving insights to Big Mountain management about what features are driving ski resort lift ticket prices. Type your choice in the final markdown cell — you will discuss this selection more in the next step of the guided casptone. </font>**"
   ]
  },
  {
   "cell_type": "markdown",
   "metadata": {
    "colab_type": "text",
    "id": "La5S9fRPAnsK"
   },
   "source": [
    "| Model | Explained Variance| Mean Absolute Error|Features Dropped|\n",
    "| --- | --- | --- | --- |\n",
    "| Model 1. | >>1|>>1  |-|\n",
    "| Model 2. | 0.532|7.3 |'state'|\n",
    "| Model 3. | 0.545 |7.2 |'state','summit_elev','base_elev'|"
   ]
  },
  {
   "cell_type": "markdown",
   "metadata": {
    "colab_type": "text",
    "id": "T2c-zn7TAnsL"
   },
   "source": [
    "Model Selection:  Clearly some issue with the Model 1. It seems to have produced a single outlier prediction that is skewing error statistics. Overall, it is good that model 3 vs. model 2 did not result in a degradation of error statistics. Final choice is therefore model 3. "
   ]
  },
  {
   "cell_type": "code",
   "execution_count": 0,
   "metadata": {
    "colab": {},
    "colab_type": "code",
    "collapsed": true,
    "id": "CgC0eMBrAnsM"
   },
   "outputs": [],
   "source": []
  }
 ],
 "metadata": {
  "colab": {
   "collapsed_sections": [
    "RtEspslPZyGY",
    "s0DokMkAZyGc",
    "2iuitnKcZyHS",
    "iAWQxougZyHW",
    "ThMTimlBZyHZ",
    "QwZ-LkjXZyHt",
    "srtXEA3N4-Y9",
    "ChVreJupZyIA",
    "zDgSSsq1ZyID",
    "I3GYKWfi5Llg",
    "pmMvrhbI-viE",
    "ZXDPkW3UZyIX",
    "Dnc_vHQLZyId",
    "daJxuJ-dZyIg",
    "mAQ-oHiPZyIn",
    "hnGOsp3mZyIp"
   ],
   "name": "GuidedCapstoneStep5.ipynb",
   "provenance": []
  },
  "kernelspec": {
   "display_name": "Python 3",
   "language": "python",
   "name": "python3"
  },
  "language_info": {
   "codemirror_mode": {
    "name": "ipython",
    "version": 3
   },
   "file_extension": ".py",
   "mimetype": "text/x-python",
   "name": "python",
   "nbconvert_exporter": "python",
   "pygments_lexer": "ipython3",
   "version": "3.6.3"
  },
  "toc": {
   "base_numbering": "0",
   "nav_menu": {},
   "number_sections": true,
   "sideBar": true,
   "skip_h1_title": false,
   "title_cell": "Table of Contents",
   "title_sidebar": "Contents",
   "toc_cell": true,
   "toc_position": {
    "height": "calc(100% - 180px)",
    "left": "10px",
    "top": "150px",
    "width": "288px"
   },
   "toc_section_display": true,
   "toc_window_display": true
  }
 },
 "nbformat": 4,
 "nbformat_minor": 1
}
